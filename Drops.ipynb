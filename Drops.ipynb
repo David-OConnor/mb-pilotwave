{
 "cells": [
  {
   "cell_type": "code",
   "execution_count": 36,
   "metadata": {
    "collapsed": false
   },
   "outputs": [],
   "source": [
    "import drops, utilities\n",
    "%matplotlib qt5"
   ]
  },
  {
   "cell_type": "code",
   "execution_count": 135,
   "metadata": {
    "collapsed": false
   },
   "outputs": [],
   "source": [
    "t = linspace(0, 100, 1000)\n",
    "\n",
    "soln, impacts = drops.ode_standalone(t)"
   ]
  },
  {
   "cell_type": "code",
   "execution_count": 132,
   "metadata": {
    "collapsed": false
   },
   "outputs": [],
   "source": [
    "x = soln[:, 0, 0]\n",
    "y = soln[:, 0, 1]\n",
    "z = soln[:, 0, 2]\n",
    "\n",
    "utilities.plot_path(soln)\n"
   ]
  },
  {
   "cell_type": "code",
   "execution_count": 158,
   "metadata": {
    "collapsed": false
   },
   "outputs": [],
   "source": [
    "utilities.wave_field(30, impacts[:1], resolution=5)\n",
    "plt.show()"
   ]
  },
  {
   "cell_type": "code",
   "execution_count": 420,
   "metadata": {
    "collapsed": false
   },
   "outputs": [
    {
     "name": "stdout",
     "output_type": "stream",
     "text": [
      "-69.8283610004 -30.0\n",
      "5.11817039724\n"
     ]
    }
   ],
   "source": [
    "impact = drops.Impact(0, -65, -30, 1)\n",
    "point = (-70, -30)\n",
    "\n",
    "\n",
    "# solutions should be -.6969, 7.969,   and 6.5122,   -4.6465, per sympy. \n",
    "# Your eqs are right, so wtf?\n",
    "\n",
    "drops.find_wall_collision(impact, point)\n"
   ]
  },
  {
   "cell_type": "code",
   "execution_count": 419,
   "metadata": {
    "collapsed": false
   },
   "outputs": [
    {
     "name": "stdout",
     "output_type": "stream",
     "text": [
      "0.75\n",
      "0.625\n",
      "0.0\n"
     ]
    }
   ],
   "source": [
    "from numpy import arctan2\n",
    "\n",
    "s = sqrt(2)/2\n",
    "\n",
    "xi, yi = -s, s\n",
    "xw, yw = -s, -s\n",
    "xp, yp = .5, .5\n",
    "\n",
    "\n",
    "# θiw = arctan2(yw - yi, xw - xi)  # angle from impact to wall\n",
    "θiw = arctan2(yw - yi, xw - xi) % τ  # angle from impact to wall\n",
    "θw = arctan2(yw, xw) % τ # normal to the wall\n",
    "\n",
    "\n",
    "θwp = (2 * θw - θiw + τ/2) % τ # bounce angle\n",
    "θwp = ((2 * θw - θiw) + τ/2) % τ # bounce angle  # tdo ??\n",
    "\n",
    "print(θiw/τ, θw/τ, θwp/τ,  sep='\\n')"
   ]
  },
  {
   "cell_type": "code",
   "execution_count": 475,
   "metadata": {
    "collapsed": false
   },
   "outputs": [
    {
     "name": "stdout",
     "output_type": "stream",
     "text": [
      "1.633123935319537e+16 -8.165619676597685e+16\n",
      "thetaw: 3.141592653589793\n"
     ]
    },
    {
     "data": {
      "image/png": "[encoded data removed]",
      "text/latex": [
       "$$50.0$$"
      ],
      "text/plain": [
       "50.0"
      ]
     },
     "execution_count": 475,
     "metadata": {},
     "output_type": "execute_result"
    }
   ],
   "source": [
    "def find_bounce_pt(impact, point, corral_radius, iterations=10):\n",
    "    \"\"\"Find where on the wall of a circular corral a ray (wave) has to bounce in order\n",
    "    to intercept a given point. Do this by making guesses to  refind your answer.\"\"\"\n",
    "    # todo is there an analytic solution??\n",
    "    \n",
    "    # θiw = arctan2(yw - yi, xw - xi)  # angle from impact to wall\n",
    "    \n",
    "    θiw = 0\n",
    "#     for i in range(2):\n",
    "    yw = corral_radius * cos(θiw) # Convert from polar to cartesian, to find wall impact point.\n",
    "    xw = corral_radius * sin(θiw)\n",
    "    \n",
    "    θw = arctan2(yw, xw) % τ # normal angle to the wall\n",
    "\n",
    "    \n",
    "#     θwp = (2 * θw - θiw + τ/2) % τ # bounce angle\n",
    "    θreflect = ((2 * θw - θiw) + τ/2) % (2*π) # bounce angle  # tdo ??\n",
    "        # θiw = arctan2(yw - yi, xw - xi)  # angle from impact to wall\n",
    "\n",
    "    print(θiw, xw, yw)\n",
    "    print(θreflect)\n",
    "\n",
    "# find_bounce_pt()\n",
    "center = drops.Point(0, 0)\n",
    "\n",
    "sample = drops.Point(-45, 40)\n",
    "impact = drops.Point(5, 1)\n",
    "drops.cast_ray(impact, sample, center, tau/4)\n",
    "    \n",
    "    "
   ]
  },
  {
   "cell_type": "code",
   "execution_count": 507,
   "metadata": {
    "collapsed": false
   },
   "outputs": [
    {
     "data": {
      "image/png": "[encoded data removed]",
      "text/latex": [
       "$$\\left ( 21.527565727909224, \\quad 72.88733712950796\\right )$$"
      ],
      "text/plain": [
       "(21.527565727909224, 72.88733712950796)"
      ]
     },
     "execution_count": 507,
     "metadata": {},
     "output_type": "execute_result"
    }
   ],
   "source": [
    "center = drops.Point(0, 0)\n",
    "\n",
    "sample = drops.Point(30, 30)\n",
    "impact = drops.Point(-20, 30)\n",
    "\n",
    "drops.find_wall_collision(impact, sample, precision=τ/10000)"
   ]
  }
 ],
 "metadata": {
  "anaconda-cloud": {},
  "kernelspec": {
   "display_name": "Python [conda root]",
   "language": "python",
   "name": "conda-root-py"
  },
  "language_info": {
   "codemirror_mode": {
    "name": "ipython",
    "version": 3
   },
   "file_extension": ".py",
   "mimetype": "text/x-python",
   "name": "python",
   "nbconvert_exporter": "python",
   "pygments_lexer": "ipython3",
   "version": "3.5.2"
  }
 },
 "nbformat": 4,
 "nbformat_minor": 1
}
